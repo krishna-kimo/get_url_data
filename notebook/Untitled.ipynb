{
 "cells": [
  {
   "cell_type": "code",
   "execution_count": null,
   "id": "65d881f1",
   "metadata": {
    "ExecuteTime": {
     "end_time": "2021-05-01T08:08:22.597272Z",
     "start_time": "2021-05-01T08:08:06.523592Z"
    }
   },
   "outputs": [],
   "source": [
    "# %pip install --upgrade google-cloud-storage\n",
    "# %pip install --upgrade google-cloud-pubsub"
   ]
  },
  {
   "cell_type": "code",
   "execution_count": 2,
   "id": "c856586d",
   "metadata": {
    "ExecuteTime": {
     "end_time": "2021-05-01T08:08:45.606617Z",
     "start_time": "2021-05-01T08:08:45.599375Z"
    }
   },
   "outputs": [],
   "source": [
    "import os, sys\n",
    "import json\n"
   ]
  },
  {
   "cell_type": "code",
   "execution_count": 3,
   "id": "58975de1",
   "metadata": {
    "ExecuteTime": {
     "end_time": "2021-05-01T08:10:29.093480Z",
     "start_time": "2021-05-01T08:10:29.087969Z"
    }
   },
   "outputs": [],
   "source": [
    "os.environ['GOOGLE_APPLICATION_CREDENTILS'] = ''"
   ]
  },
  {
   "cell_type": "code",
   "execution_count": null,
   "id": "815a8ba4",
   "metadata": {},
   "outputs": [],
   "source": []
  }
 ],
 "metadata": {
  "kernelspec": {
   "display_name": "Python 3",
   "language": "python",
   "name": "python3"
  },
  "language_info": {
   "codemirror_mode": {
    "name": "ipython",
    "version": 3
   },
   "file_extension": ".py",
   "mimetype": "text/x-python",
   "name": "python",
   "nbconvert_exporter": "python",
   "pygments_lexer": "ipython3",
   "version": "3.8.8"
  },
  "toc": {
   "base_numbering": 1,
   "nav_menu": {},
   "number_sections": true,
   "sideBar": true,
   "skip_h1_title": false,
   "title_cell": "Table of Contents",
   "title_sidebar": "Contents",
   "toc_cell": false,
   "toc_position": {},
   "toc_section_display": true,
   "toc_window_display": false
  }
 },
 "nbformat": 4,
 "nbformat_minor": 5
}
